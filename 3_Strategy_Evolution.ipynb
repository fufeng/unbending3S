{
 "cells": [
  {
   "cell_type": "code",
   "execution_count": 1,
   "id": "3b506c47",
   "metadata": {
    "ExecuteTime": {
     "end_time": "2024-05-17T16:12:47.228614Z",
     "start_time": "2024-05-17T16:12:45.857825Z"
    }
   },
   "outputs": [],
   "source": [
    "import numpy as np\n",
    "import matplotlib.pyplot as plt\n",
    "import matplotlib.patches as mpatches\n",
    "import matplotlib.colors as mcolors\n",
    "import seaborn as sns\n",
    "import random\n",
    "from matplotlib.lines import Line2D"
   ]
  },
  {
   "cell_type": "markdown",
   "id": "a84b7046",
   "metadata": {},
   "source": [
    "# paint the legend"
   ]
  },
  {
   "cell_type": "code",
   "execution_count": 2,
   "id": "ac59794f",
   "metadata": {
    "ExecuteTime": {
     "end_time": "2024-05-17T16:12:48.379459Z",
     "start_time": "2024-05-17T16:12:48.373207Z"
    }
   },
   "outputs": [],
   "source": [
    "def figure_legend(fs):\n",
    "    '''\n",
    "    fs: the size of legend figure\n",
    "    '''    \n",
    "    fig, ax = plt.subplots()\n",
    "    \n",
    "    fig.set_size_inches(5, 5) \n",
    "    \n",
    "    sns.set_style('white')\n",
    "    palette = ['#F8EFCD', '#F3DADE', '#B4C3E0']\n",
    "    \n",
    "    cmap = mcolors.LinearSegmentedColormap.from_list('Custom', palette, len(palette))\n",
    "    plt.axis('off')\n",
    "    \n",
    "    # legend of patches\n",
    "    patch_0 = mpatches.Patch(color=palette[0], label='PSO Gambler')\n",
    "    patch_1 = mpatches.Patch(color=palette[2], label='AllC')\n",
    "    patch_2 = mpatches.Patch(color=palette[1], label='Extortionate ZD')\n",
    "    \n",
    "    # legend of arrows\n",
    "    custom_legend = [\n",
    "        Line2D([0], [0], color='black', linestyle='--', marker='>', markersize=7, label='Evolution Process'),\n",
    "        Line2D([0], [0], color='black', linestyle='-', marker='>', markersize=7, label='Mutation Step')\n",
    "    ]\n",
    "    \n",
    "    plt.legend(handles=[patch_1, patch_2, patch_0] + custom_legend, loc='center', ncol=1, handleheight=2, handlelength=1.6,\n",
    "               fancybox=True, fontsize=fs)\n",
    "    \n",
    "    # save the legend figure\n",
    "    #plt.savefig('legend.svg', format='svg')\n",
    "    \n",
    "    plt.show()\n"
   ]
  },
  {
   "cell_type": "code",
   "execution_count": 3,
   "id": "5526e4f9",
   "metadata": {
    "ExecuteTime": {
     "end_time": "2024-05-17T16:12:49.728663Z",
     "start_time": "2024-05-17T16:12:49.603958Z"
    }
   },
   "outputs": [
    {
     "data": {
      "image/png": "[encoded data removed]",
      "text/plain": [
       "<Figure size 500x500 with 1 Axes>"
      ]
     },
     "metadata": {},
     "output_type": "display_data"
    }
   ],
   "source": [
    "figure_legend(20)"
   ]
  },
  {
   "cell_type": "markdown",
   "id": "f62fe107",
   "metadata": {},
   "source": [
    "# Matrixes of lattice at key steps"
   ]
  },
  {
   "cell_type": "code",
   "execution_count": 47,
   "id": "f4b403d7",
   "metadata": {
    "ExecuteTime": {
     "end_time": "2024-05-14T21:32:34.101945Z",
     "start_time": "2024-05-14T21:32:34.071062Z"
    }
   },
   "outputs": [],
   "source": [
    "# All nodes are AllC\n",
    "G1 = np.full((10, 10), 0)\n",
    "\n",
    "# The first Extortionate ZD appears\n",
    "G2 = np.array([[0, 0, 0, 0, 0, 0, 0, 0, 0, 0],\n",
    "              [0, 0, 0, 0, 0, 0, 0, 0, 0, 0],\n",
    "              [0, 0, 0, 0, 0, 0, 0, 0, 0, 0],\n",
    "              [0, 0, 0, 0, 1, 0, 0, 0, 0, 0],\n",
    "              [0, 0, 0, 0, 0, 0, 0, 0, 0, 0],\n",
    "              [0, 0, 0, 0, 0, 0, 0, 0, 0, 0],\n",
    "              [0, 0, 0, 0, 0, 0, 0, 0, 0, 0],\n",
    "              [0, 0, 0, 0, 0, 0, 0, 0, 0, 0],\n",
    "              [0, 0, 0, 0, 0, 0, 0, 0, 0, 0],\n",
    "              [0, 0, 0, 0, 0, 0, 0, 0, 0, 0]])\n",
    "\n",
    "# AllC×ZD evolved over a period of time\n",
    "G3 = np.array([[0, 0, 0, 0, 0, 0, 0, 0, 0, 0],\n",
    "              [0, 0, 1, 0, 0, 0, 0, 0, 0, 0],\n",
    "              [0, 0, 1, 1, 1, 0, 0, 0, 0, 0],\n",
    "              [0, 1, 1, 1, 1, 1, 0, 0, 0, 0],\n",
    "              [0, 0, 1, 0, 1, 0, 0, 0, 0, 1],\n",
    "              [0, 0, 1, 1, 1, 0, 0, 0, 0, 0],\n",
    "              [0, 0, 0, 0, 1, 0, 0, 0, 0, 0],\n",
    "              [0, 0, 0, 0, 0, 1, 0, 0, 0, 0],\n",
    "              [0, 0, 0, 0, 0, 0, 0, 0, 0, 0],\n",
    "              [0, 0, 0, 0, 0, 0, 0, 0, 0, 0]])\n",
    "\n",
    "# The first PSO Gambler appears\n",
    "G4 = np.array([[0, 0, 0, 0, 0, 0, 0, 0, 0, 0],\n",
    "              [0, 0, 1, 0, 0, 0, 0, 0, 0, 0],\n",
    "              [0, 0, 1, 1, 1, 0, 0, 0, 0, 0],\n",
    "              [0, 1, 1, 1, 1, 1, 0, 0, 0, 0],\n",
    "              [0, 0, 1, 0, 1, 0, 0, 0, 0, 1],\n",
    "              [0, 0, 1, 1, 1, 0, 0, 2, 0, 0],\n",
    "              [0, 0, 0, 0, 1, 0, 0, 0, 0, 0],\n",
    "              [0, 0, 0, 0, 0, 1, 0, 0, 0, 0],\n",
    "              [0, 0, 0, 0, 0, 0, 0, 0, 0, 0],\n",
    "              [0, 0, 0, 0, 0, 0, 0, 0, 0, 0]])\n",
    "\n",
    "# 3 strategies evolved over a period of time\n",
    "G5 = np.array([[1, 1, 1, 0, 2, 0, 1, 0, 1, 1],\n",
    "              [1, 1, 0, 1, 2, 0, 0, 0, 0, 0],\n",
    "              [1, 2, 1, 0, 0, 2, 1, 0, 0, 1],\n",
    "              [0, 0, 0, 1, 0, 0, 1, 1, 1, 0],\n",
    "              [2, 2, 1, 1, 1, 1, 1, 2, 2, 1],\n",
    "              [1, 2, 0, 2, 0, 0, 2, 2, 2, 2],\n",
    "              [1, 0, 0, 2, 2, 2, 1, 2, 2, 0],\n",
    "              [0, 1, 2, 0, 2, 2, 2, 2, 0, 2],\n",
    "              [0, 2, 0, 1, 0, 0, 2, 0, 0, 2],\n",
    "              [2, 0, 1, 2, 0, 2, 2, 1, 2, 2]])\n",
    "\n",
    "# All nodes are PSO Gambler\n",
    "G6 = np.full((10, 10), 2)\n",
    "\n",
    "# After all nodes are PSO Gambler, the first Extortionate ZD appears\n",
    "G7 = np.array([[2, 2, 2, 2, 2, 2, 2, 2, 2, 2],\n",
    "              [2, 2, 2, 2, 2, 2, 2, 2, 2, 2],\n",
    "              [2, 2, 2, 2, 2, 2, 2, 2, 2, 2],\n",
    "              [2, 2, 2, 2, 2, 2, 2, 2, 2, 2],\n",
    "              [2, 2, 2, 2, 2, 2, 2, 2, 2, 2],\n",
    "              [2, 2, 2, 2, 2, 2, 2, 2, 2, 2],\n",
    "              [2, 2, 2, 2, 2, 2, 1, 2, 2, 2],\n",
    "              [2, 2, 2, 2, 2, 2, 2, 2, 2, 2],\n",
    "              [2, 2, 2, 2, 2, 2, 2, 2, 2, 2],\n",
    "              [2, 2, 2, 2, 2, 2, 2, 2, 2, 2]])\n",
    "\n",
    "# ZD×PSO evolved over a period of time\n",
    "G8 = np.array([[2, 1, 2, 2, 2, 2, 2, 2, 2, 2],\n",
    "              [2, 1, 1, 2, 2, 2, 2, 2, 2, 2],\n",
    "              [2, 2, 1, 2, 2, 2, 2, 2, 2, 2],\n",
    "              [2, 2, 2, 2, 2, 2, 2, 2, 2, 2],\n",
    "              [2, 2, 1, 2, 2, 2, 2, 2, 2, 2],\n",
    "              [2, 2, 1, 1, 2, 2, 2, 2, 2, 2],\n",
    "              [2, 1, 2, 2, 2, 1, 1, 1, 1, 1],\n",
    "              [2, 2, 1, 1, 1, 1, 2, 2, 2, 2],\n",
    "              [2, 2, 2, 2, 1, 1, 2, 2, 2, 2],\n",
    "              [2, 2, 1, 1, 1, 2, 2, 2, 2, 2]])\n",
    "\n",
    "# After ZD×PSO evolved over a period of time, the first AllC appears\n",
    "G9 = np.array([[2, 1, 2, 2, 2, 2, 2, 2, 2, 2],\n",
    "              [2, 1, 1, 2, 2, 2, 2, 2, 2, 2],\n",
    "              [2, 2, 1, 2, 2, 2, 2, 2, 2, 2],\n",
    "              [2, 2, 2, 2, 2, 2, 2, 2, 2, 2],\n",
    "              [2, 2, 1, 2, 2, 2, 2, 0, 2, 2],\n",
    "              [2, 2, 1, 1, 2, 2, 2, 2, 2, 2],\n",
    "              [2, 1, 2, 2, 2, 1, 1, 1, 1, 1],\n",
    "              [2, 2, 1, 1, 1, 1, 2, 2, 2, 2],\n",
    "              [2, 2, 2, 2, 1, 1, 2, 2, 2, 2],\n",
    "              [2, 2, 1, 1, 1, 2, 2, 2, 2, 2]])\n",
    "\n",
    "# 3 strategies evolved over a period of time\n",
    "G10 = np.array([[2, 2, 0, 1, 1, 0, 1, 2, 2, 1],\n",
    "              [2, 0, 2, 1, 0, 2, 1, 0, 0, 2],\n",
    "              [2, 1, 1, 0, 1, 2, 0, 1, 1, 1],\n",
    "              [2, 1, 2, 1, 1, 2, 2, 2, 0, 2],\n",
    "              [2, 1, 0, 2, 1, 2, 1, 1, 0, 0],\n",
    "              [2, 2, 1, 1, 1, 1, 1, 1, 1, 0],\n",
    "              [2, 2, 2, 1, 2, 1, 0, 1, 1, 2],\n",
    "              [2, 1, 1, 1, 2, 2, 0, 2, 0, 0],\n",
    "              [2, 2, 0, 0, 2, 2, 0, 1, 1, 2],\n",
    "              [2, 2, 2, 2, 2, 1, 0, 2, 1, 2]])\n",
    "\n",
    "# All nodes are Extortionate ZD\n",
    "G11 = np.full((10, 10), 1)"
   ]
  },
  {
   "cell_type": "markdown",
   "id": "d9ee5f60",
   "metadata": {},
   "source": [
    "# Paint the lattice for each key step"
   ]
  },
  {
   "cell_type": "code",
   "execution_count": 46,
   "id": "85ea3a9e",
   "metadata": {
    "ExecuteTime": {
     "end_time": "2024-05-14T21:32:32.499691Z",
     "start_time": "2024-05-14T21:32:32.494124Z"
    }
   },
   "outputs": [],
   "source": [
    "def Lattice_paint(G):\n",
    "    '''\n",
    "    G: the Lattice to be painted\n",
    "    '''\n",
    "    lattice = G\n",
    "    \n",
    "    palette = ['#F3DADE', '#F8EFCD', '#B4C3E0']\n",
    "    \n",
    "    cmap = mcolors.LinearSegmentedColormap.from_list('Custon', palette, len(palette))\n",
    "    \n",
    "    sns.heatmap(lattice, square = True, cmap = cmap, cbar=False, linecolor='white', linewidths=0.5)\n",
    "    \n",
    "    plt.xticks([])\n",
    "    plt.yticks([])\n",
    "    \n",
    "    # save the figure\n",
    "    #plt.savefig('heatmap.svg', format='svg')\n",
    "    plt.show()\n",
    "    "
   ]
  },
  {
   "cell_type": "markdown",
   "id": "3987f3cb",
   "metadata": {},
   "source": [
    "## All nodes are AllC"
   ]
  },
  {
   "cell_type": "code",
   "execution_count": 11,
   "id": "79576a8f",
   "metadata": {
    "ExecuteTime": {
     "end_time": "2024-05-14T21:12:15.979330Z",
     "start_time": "2024-05-14T21:12:15.902869Z"
    }
   },
   "outputs": [
    {
     "data": {
      "image/png": "[encoded data removed]",
      "text/plain": [
       "<Figure size 640x480 with 1 Axes>"
      ]
     },
     "metadata": {},
     "output_type": "display_data"
    }
   ],
   "source": [
    "Lattice_paint(G1)"
   ]
  },
  {
   "cell_type": "markdown",
   "id": "7b63f20e",
   "metadata": {},
   "source": [
    "## The first Extortionate ZD appears"
   ]
  },
  {
   "cell_type": "code",
   "execution_count": 12,
   "id": "4f87ee38",
   "metadata": {
    "ExecuteTime": {
     "end_time": "2024-05-14T21:12:16.924951Z",
     "start_time": "2024-05-14T21:12:16.849266Z"
    }
   },
   "outputs": [
    {
     "data": {
      "image/png": "[encoded data removed]",
      "text/plain": [
       "<Figure size 640x480 with 1 Axes>"
      ]
     },
     "metadata": {},
     "output_type": "display_data"
    }
   ],
   "source": [
    "Lattice_paint(G2)"
   ]
  },
  {
   "cell_type": "markdown",
   "id": "8d12c1e9",
   "metadata": {},
   "source": [
    "## AllC×ZD evolved over a period of time"
   ]
  },
  {
   "cell_type": "code",
   "execution_count": 13,
   "id": "e47f00e8",
   "metadata": {
    "ExecuteTime": {
     "end_time": "2024-05-14T21:12:18.740762Z",
     "start_time": "2024-05-14T21:12:18.649633Z"
    }
   },
   "outputs": [
    {
     "data": {
      "image/png": "[encoded data removed]",
      "text/plain": [
       "<Figure size 640x480 with 1 Axes>"
      ]
     },
     "metadata": {},
     "output_type": "display_data"
    }
   ],
   "source": [
    "Lattice_paint(G3)"
   ]
  },
  {
   "cell_type": "markdown",
   "id": "7034ebde",
   "metadata": {},
   "source": [
    "## The first PSO Gambler appears"
   ]
  },
  {
   "cell_type": "code",
   "execution_count": 16,
   "id": "93d0cc3d",
   "metadata": {
    "ExecuteTime": {
     "end_time": "2024-05-14T21:13:15.382356Z",
     "start_time": "2024-05-14T21:13:15.302411Z"
    }
   },
   "outputs": [
    {
     "data": {
      "image/png": "[encoded data removed]",
      "text/plain": [
       "<Figure size 640x480 with 1 Axes>"
      ]
     },
     "metadata": {},
     "output_type": "display_data"
    }
   ],
   "source": [
    "Lattice_paint(G4)"
   ]
  },
  {
   "cell_type": "markdown",
   "id": "d60ef1fe",
   "metadata": {},
   "source": [
    "## 3 strategies evolved over a period of time"
   ]
  },
  {
   "cell_type": "code",
   "execution_count": 18,
   "id": "6202e484",
   "metadata": {
    "ExecuteTime": {
     "end_time": "2024-05-14T21:18:36.719020Z",
     "start_time": "2024-05-14T21:18:36.626410Z"
    }
   },
   "outputs": [
    {
     "data": {
      "image/png": "[encoded data removed]",
      "text/plain": [
       "<Figure size 640x480 with 1 Axes>"
      ]
     },
     "metadata": {},
     "output_type": "display_data"
    }
   ],
   "source": [
    "Lattice_paint(G5)"
   ]
  },
  {
   "cell_type": "markdown",
   "id": "e63097de",
   "metadata": {},
   "source": [
    "## All nodes are PSO Gambler"
   ]
  },
  {
   "cell_type": "code",
   "execution_count": 21,
   "id": "60e3649b",
   "metadata": {
    "ExecuteTime": {
     "end_time": "2024-05-14T21:19:03.377924Z",
     "start_time": "2024-05-14T21:19:03.304211Z"
    }
   },
   "outputs": [
    {
     "data": {
      "image/png": "[encoded data removed]",
      "text/plain": [
       "<Figure size 640x480 with 1 Axes>"
      ]
     },
     "metadata": {},
     "output_type": "display_data"
    }
   ],
   "source": [
    "Lattice_paint(G6)"
   ]
  },
  {
   "cell_type": "markdown",
   "id": "cdf596bd",
   "metadata": {},
   "source": [
    "## After all nodes are PSO Gambler, the first Extortionate ZD appears"
   ]
  },
  {
   "cell_type": "code",
   "execution_count": 34,
   "id": "c9e25a78",
   "metadata": {
    "ExecuteTime": {
     "end_time": "2024-05-14T21:23:32.723469Z",
     "start_time": "2024-05-14T21:23:32.650144Z"
    }
   },
   "outputs": [
    {
     "data": {
      "image/png": "[encoded data removed]",
      "text/plain": [
       "<Figure size 640x480 with 1 Axes>"
      ]
     },
     "metadata": {},
     "output_type": "display_data"
    }
   ],
   "source": [
    "Lattice_paint(G7)"
   ]
  },
  {
   "cell_type": "markdown",
   "id": "b2537149",
   "metadata": {},
   "source": [
    "## ZD×PSO evolved over a period of time"
   ]
  },
  {
   "cell_type": "code",
   "execution_count": 36,
   "id": "ad62d265",
   "metadata": {
    "ExecuteTime": {
     "end_time": "2024-05-14T21:25:27.902731Z",
     "start_time": "2024-05-14T21:25:27.806880Z"
    }
   },
   "outputs": [
    {
     "data": {
      "image/png": "[encoded data removed]",
      "text/plain": [
       "<Figure size 640x480 with 1 Axes>"
      ]
     },
     "metadata": {},
     "output_type": "display_data"
    }
   ],
   "source": [
    "Lattice_paint(G8)"
   ]
  },
  {
   "cell_type": "markdown",
   "id": "8f510dcd",
   "metadata": {},
   "source": [
    "## After ZD×PSO evolved over a period of time, the first AllC appears"
   ]
  },
  {
   "cell_type": "code",
   "execution_count": 41,
   "id": "35581a44",
   "metadata": {
    "ExecuteTime": {
     "end_time": "2024-05-14T21:26:59.532721Z",
     "start_time": "2024-05-14T21:26:59.452048Z"
    }
   },
   "outputs": [
    {
     "data": {
      "image/png": "[encoded data removed]",
      "text/plain": [
       "<Figure size 640x480 with 1 Axes>"
      ]
     },
     "metadata": {},
     "output_type": "display_data"
    }
   ],
   "source": [
    "Lattice_paint(G9)"
   ]
  },
  {
   "cell_type": "markdown",
   "id": "8a2fbe6d",
   "metadata": {},
   "source": [
    "## 3 strategies evolved over a period of time"
   ]
  },
  {
   "cell_type": "code",
   "execution_count": 43,
   "id": "7e285b58",
   "metadata": {
    "ExecuteTime": {
     "end_time": "2024-05-14T21:31:06.225349Z",
     "start_time": "2024-05-14T21:31:06.136625Z"
    }
   },
   "outputs": [
    {
     "data": {
      "image/png": "[encoded data removed]",
      "text/plain": [
       "<Figure size 640x480 with 1 Axes>"
      ]
     },
     "metadata": {},
     "output_type": "display_data"
    }
   ],
   "source": [
    "Lattice_paint(G10)"
   ]
  },
  {
   "cell_type": "markdown",
   "id": "1a80a8d6",
   "metadata": {},
   "source": [
    "## All nodes are Extortionate ZD"
   ]
  },
  {
   "cell_type": "code",
   "execution_count": 48,
   "id": "32badf31",
   "metadata": {
    "ExecuteTime": {
     "end_time": "2024-05-14T21:32:37.977812Z",
     "start_time": "2024-05-14T21:32:37.904476Z"
    }
   },
   "outputs": [
    {
     "data": {
      "image/png": "[encoded data removed]",
      "text/plain": [
       "<Figure size 640x480 with 1 Axes>"
      ]
     },
     "metadata": {},
     "output_type": "display_data"
    }
   ],
   "source": [
    "Lattice_paint(G11)"
   ]
  },
  {
   "cell_type": "code",
   "execution_count": null,
   "id": "8ebfda32",
   "metadata": {},
   "outputs": [],
   "source": []
  }
 ],
 "metadata": {
  "kernelspec": {
   "display_name": "Python 3 (ipykernel)",
   "language": "python",
   "name": "python3"
  },
  "language_info": {
   "codemirror_mode": {
    "name": "ipython",
    "version": 3
   },
   "file_extension": ".py",
   "mimetype": "text/x-python",
   "name": "python",
   "nbconvert_exporter": "python",
   "pygments_lexer": "ipython3",
   "version": "3.11.5"
  }
 },
 "nbformat": 4,
 "nbformat_minor": 5
}
